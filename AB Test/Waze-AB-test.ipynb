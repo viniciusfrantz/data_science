{
 "cells": [
  {
   "cell_type": "markdown",
   "metadata": {
    "id": "DtNBZFHO3M7n"
   },
   "source": [
    "## **Waze Project - AB Test: Analyzing The Number of drives Between iPhone and Android Users**"
   ]
  },
  {
   "cell_type": "markdown",
   "metadata": {
    "id": "WVeXS7BNzX6e"
   },
   "source": [
    "### **Objective:**\n",
    "The goal of this project was to analyze the difference in the mean number of drives between iPhone and Android users using a two-sample hypothesis test. Understanding the number of rides between different platform users could provide valuable insights into user engagement, app performance, or help improve marketing strategies for different user groups.This project was structured using the PACE methodology."
   ]
  },
  {
   "cell_type": "markdown",
   "metadata": {
    "id": "rgSbVJvomcVa"
   },
   "source": [
    "### **Methodology**\n",
    "1. **Data Preparation:** Loaded and cleaned dataset using Pandas\n",
    "2. **Descriptive Statistics:** Calculated mean, median and standard deviation for both groups (iPhone and Android).\n",
    "3. **Hypothesis Testing:** Performed a two-sample t-test to determine if there was a significant difference between the average of rides for iPhone and Android users.\n",
    "4. **Significance Level:** Set at α = 0.05\n"
   ]
  },
  {
   "cell_type": "markdown",
   "metadata": {
    "id": "Bb1HNu3FzX6k"
   },
   "source": [
    "### **1. Research Question(Plan)**\n",
    "**Research Question:** Does the average number of drives differ between iPhone and Android users?\n"
   ]
  },
  {
   "cell_type": "markdown",
   "metadata": {
    "id": "xgQEdIN7f1Jq"
   },
   "source": [
    "### **Importing packages and data loading**\n",
    "\n",
    "##### To begin the analysis, the necessary Python libraries are imported:\n",
    "\n",
    "    - Pandas for data manipulation and cleaning\n",
    "    - Numpy for numerical operations and handling arrays\n",
    "    - Matplotlib for visualizing and plotting\n",
    "    - Seaborn: For enhanced data visualization\n",
    "    - Scipy for statistical functions to perform the hypothesis test"
   ]
  },
  {
   "cell_type": "code",
   "execution_count": null,
   "metadata": {
    "id": "1Q-GL2UrgWWG"
   },
   "outputs": [],
   "source": [
    "# Importing relevant packages and libraries\n",
    "import pandas as pd\n",
    "import numpy as np\n",
    "import matplotlib.pyplot as plt\n",
    "import seaborn as sns\n",
    "from scipy import stats\n"
   ]
  },
  {
   "cell_type": "code",
   "execution_count": null,
   "metadata": {
    "id": "2qAt6Upaeg6U"
   },
   "outputs": [],
   "source": [
    "# Load dataset into dataframe\n",
    "df = pd.read_csv('waze_dataset.csv')"
   ]
  },
  {
   "cell_type": "markdown",
   "metadata": {
    "id": "c8paWsdKzX6o"
   },
   "source": [
    "### **2. Data Exploration (Analyze)**\n",
    "\n",
    "1. Understanding the data and conducting Exploratory Data Analysis\n"
   ]
  },
  {
   "cell_type": "code",
   "execution_count": null,
   "metadata": {},
   "outputs": [],
   "source": [
    "df.head(5)"
   ]
  },
  {
   "cell_type": "code",
   "execution_count": null,
   "metadata": {},
   "outputs": [],
   "source": [
    "print(df.info())\n",
    "df.describe(include='all')"
   ]
  },
  {
   "cell_type": "code",
   "execution_count": null,
   "metadata": {},
   "outputs": [],
   "source": [
    "#checking if there are any misspellings\n",
    "df['device'].unique()"
   ]
  },
  {
   "cell_type": "code",
   "execution_count": null,
   "metadata": {},
   "outputs": [],
   "source": [
    "#checking missing data\n",
    "print('Device column missing data:', df['device'].isnull().sum())\n",
    "print('Drives column missing data:', df['drives'].isnull().sum())"
   ]
  },
  {
   "cell_type": "markdown",
   "metadata": {},
   "source": [
    "##### Creating a new variable transforming  device in a new variable (device_type) integer.\n",
    "\n",
    "    - iPhone: 1\n",
    "    - Android: 2\n",
    "This step converts the device type into a numeric form, which is better for statistical analysis and hypothesis testing."
   ]
  },
  {
   "cell_type": "code",
   "execution_count": null,
   "metadata": {},
   "outputs": [],
   "source": [
    "df['device_type'] = df['device'].map({'iPhone' : 1, 'Android': 2})"
   ]
  },
  {
   "cell_type": "code",
   "execution_count": null,
   "metadata": {},
   "outputs": [],
   "source": [
    "#mean difference in drives between iPhone and Android users\n",
    "df.groupby('device_type')['drives'].mean().round(2)"
   ]
  },
  {
   "cell_type": "markdown",
   "metadata": {},
   "source": [
    "**Based on results, it appears that drives who use iPhone have a higher number of drives on average.** "
   ]
  },
  {
   "cell_type": "code",
   "execution_count": null,
   "metadata": {},
   "outputs": [],
   "source": [
    "# other statistics (median)\n",
    "df.groupby('device_type')['drives'].median().round(2)"
   ]
  },
  {
   "cell_type": "code",
   "execution_count": null,
   "metadata": {},
   "outputs": [],
   "source": [
    "#other statistics (standard deviation)\n",
    "df.groupby('device_type')['drives'].std().round(2)"
   ]
  },
  {
   "cell_type": "markdown",
   "metadata": {},
   "source": [
    "#### **Visualizations**\n",
    "To better understand the distribution of the data, boxplots and histograms were generated.\n",
    "The boxplot gives us a visual representation of the distribution of the number of drives for each device type. It shows potential outliers and the range of the data. The histogram helps visualize the frequency distribution of the number of drives per device, giving us a sense of how data is spread across the two groups.\""
   ]
  },
  {
   "cell_type": "code",
   "execution_count": null,
   "metadata": {},
   "outputs": [],
   "source": [
    "# Set 2 figures \n",
    "fig, axes = plt.subplots(1, 2, figsize=(8, 4)) \n",
    "palette = {1: 'black', 2: '#3DDC84'}\n",
    "\n",
    "#Boxplot\n",
    "sns.boxplot(data=df, x='device_type', y='drives', ax=axes[0])\n",
    "axes[0].set_title('Number of Drives by Device')\n",
    "\n",
    "#Histogram - Distribution\n",
    "\n",
    "sns.histplot(data=df, x='drives', hue='device_type', multiple='stack', palette = palette, ax=axes[1])\n",
    "axes[1].set_title('Distribution os Drives by Device')\n",
    "\n",
    "plt.tight_layout()\n",
    "plt.subplots_adjust(wspace=0.4)\n",
    "                   \n",
    "plt.show()"
   ]
  },
  {
   "cell_type": "markdown",
   "metadata": {
    "id": "QpFRQDaNzX6p"
   },
   "source": [
    "\n",
    "### **3. Hypothesis testing (Construct)**\n",
    "\n",
    "A two-sample t-test is appropriate because we are comparing the means of two independent groups (iPhone vs. Android users). The null hypothesis assumes that the means are the same, while the alternative hypothesis suggests that there is a significant difference in the means.\n",
    "\n",
    "**Hypothesis:**\n",
    "\n",
    "    - Null hypothesis (H0) --> The number of drives between iPhone and Android are the same\n",
    "    - Alternative hypothesis (Ha) --> The number of drives between iphone users and android users are different.\n",
    "\n",
    "**Significance Level (α):** Set to 5%\n",
    "\n"
   ]
  },
  {
   "cell_type": "markdown",
   "metadata": {},
   "source": [
    "**Performing the Two-Sample T-Test**\n",
    "\n",
    "    Two datasets were created to isolate rides for iPhone and Android users. A two-sample t-test was conducted to check for significant differences in the number of rides.(The two groups are independent)"
   ]
  },
  {
   "cell_type": "code",
   "execution_count": null,
   "metadata": {},
   "outputs": [],
   "source": [
    "# Isolating the drives columns for iPhone and Android users\n",
    "iphone_drives = df[df['device_type'] == 1]['drives']\n",
    "android_drives = df[df['device_type'] == 2]['drives']"
   ]
  },
  {
   "cell_type": "code",
   "execution_count": null,
   "metadata": {
    "id": "rdlsXg7Dhbrd"
   },
   "outputs": [],
   "source": [
    "# Performing the t-test\n",
    "ttest, pvalue = stats.ttest_ind(a=iphone_drives, b=android_drives, equal_var=False)\n",
    "\n",
    "print(f't value: {ttest}')\n",
    "print(f'p value: {pvalue}')"
   ]
  },
  {
   "cell_type": "markdown",
   "metadata": {},
   "source": [
    "### **4. Decision and Interpretation (Execute)**\n"
   ]
  },
  {
   "cell_type": "markdown",
   "metadata": {},
   "source": [
    "Since the **p-value: 0.14** is greater than the significance level (**α = 0.05**), The test **fail to reject the null hypothesis**.\n",
    "This indicates that **there is not a statistically significant difference** in the average number of drives between iPhone and Android Users. "
   ]
  },
  {
   "cell_type": "code",
   "execution_count": null,
   "metadata": {},
   "outputs": [],
   "source": [
    "significance_level = 0.05\n",
    "\n",
    "if pvalue < significance_level:\n",
    "    print(f' The p-value: {pvalue} reject the null hypothesis, there is a statistical difference in drives per device')\n",
    "else:\n",
    "    print(f'The p-value: {pvalue:.2f} fail to reject the null hypothesis, there is NO  statistical difference in drives per device. Probably it happened by chance')\n"
   ]
  },
  {
   "cell_type": "markdown",
   "metadata": {
    "id": "h1PRfiD3hcwE"
   },
   "source": [
    "### **Business Insights**"
   ]
  },
  {
   "cell_type": "markdown",
   "metadata": {
    "id": "ItreFaZKhvVw"
   },
   "source": [
    " **Key Insight:**  \n",
    " The analysis revealed no significant difference in the number of drives between Android and iPhone  users, suggesting that the user experience between the two platforms may not differ substantially.\n",
    "\n",
    " **Next Steps:** Explore what other factors influence the variation in the number of drives and run additional hypothesis tests to learn more about user behavior."
   ]
  },
  {
   "cell_type": "markdown",
   "metadata": {},
   "source": [
    "### **Final Thoughts**\n",
    "This project helped me understand the significance of statistical testing, the application of hypothesis testing in real-world scenarios, and how to use Python libraries for analysis. It's an excellent foundation for further exploration into user behavior and app performance\n",
    "\n",
    "This analysis serves as a solid foundation for future explorations into user behavior and app performance across different platforms."
   ]
  }
 ],
 "metadata": {
  "colab": {
   "provenance": [
    {
     "file_id": "1VMShPM3amGvcOZx0J5yHz1kb04rzCFvN",
     "timestamp": 1671052168408
    },
    {
     "file_id": "1su07KaK4RI6MI85tMf2H19qop9LcqqDy",
     "timestamp": 1669648371757
    },
    {
     "file_id": "1f5FzGbEQi1DvhHY8u-K32sklfpgir_pK",
     "timestamp": 1669589913543
    }
   ]
  },
  "kernelspec": {
   "display_name": "Python [conda env:base] *",
   "language": "python",
   "name": "conda-base-py"
  },
  "language_info": {
   "codemirror_mode": {
    "name": "ipython",
    "version": 3
   },
   "file_extension": ".py",
   "mimetype": "text/x-python",
   "name": "python",
   "nbconvert_exporter": "python",
   "pygments_lexer": "ipython3",
   "version": "3.12.7"
  }
 },
 "nbformat": 4,
 "nbformat_minor": 4
}
